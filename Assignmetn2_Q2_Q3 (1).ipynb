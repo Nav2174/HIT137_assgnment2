{
  "nbformat": 4,
  "nbformat_minor": 0,
  "metadata": {
    "colab": {
      "provenance": []
    },
    "kernelspec": {
      "name": "python3",
      "display_name": "Python 3"
    },
    "language_info": {
      "name": "python"
    }
  },
  "cells": [
    {
      "cell_type": "markdown",
      "source": [
        "# Mounting Google drive"
      ],
      "metadata": {
        "id": "TcQtoBhg68Ti"
      }
    },
    {
      "cell_type": "code",
      "source": [
        "from google.colab import drive\n",
        "drive.mount('/content/drive')"
      ],
      "metadata": {
        "colab": {
          "base_uri": "https://localhost:8080/"
        },
        "id": "Hx3KOCPB66z7",
        "outputId": "9e7e3cf4-5525-4ec8-e355-afb356c41f5a"
      },
      "execution_count": 1,
      "outputs": [
        {
          "output_type": "stream",
          "name": "stdout",
          "text": [
            "Mounted at /content/drive\n"
          ]
        }
      ]
    },
    {
      "cell_type": "code",
      "source": [
        "!cp /content/drive/MyDrive/Assignment2.zip /content # reading data from drive"
      ],
      "metadata": {
        "id": "q4miSWDNOKm1"
      },
      "execution_count": 26,
      "outputs": []
    },
    {
      "cell_type": "code",
      "source": [
        "%%capture\n",
        "!unzip /content/Assignment2.zip -d dataset # mounting data"
      ],
      "metadata": {
        "id": "yBwCtfdzOtnx"
      },
      "execution_count": 27,
      "outputs": []
    },
    {
      "cell_type": "markdown",
      "source": [
        "# Question 2\n",
        "Here’s an adventurous story intertwined with Python programming questions\n",
        "that involve nested for loops, conditional statements, string manipulations, and\n",
        "more."
      ],
      "metadata": {
        "id": "lbQ5Zamv8tmt"
      }
    },
    {
      "cell_type": "markdown",
      "source": [
        "## Generated Number Calculation:"
      ],
      "metadata": {
        "id": "WhK7EW0u88Lt"
      }
    },
    {
      "cell_type": "code",
      "source": [
        "import time\n",
        "current_time = int(time.time())\n",
        "generated_number = (current_time % 100) + 50\n",
        "\n",
        "if generated_number % 2 == 0:\n",
        "    generated_number += 10\n",
        "\n",
        "print(generated_number)\n"
      ],
      "metadata": {
        "colab": {
          "base_uri": "https://localhost:8080/"
        },
        "id": "DIBWeey68xR3",
        "outputId": "13bfa124-23ca-4ec2-fba7-3e086301954e"
      },
      "execution_count": 36,
      "outputs": [
        {
          "output_type": "stream",
          "name": "stdout",
          "text": [
            "84\n"
          ]
        }
      ]
    },
    {
      "cell_type": "markdown",
      "source": [
        "## Modification of image pixels using generated number"
      ],
      "metadata": {
        "id": "U_MXDdGBL1Fx"
      }
    },
    {
      "cell_type": "code",
      "source": [
        "import time\n",
        "from PIL import Image\n",
        "#Open the image\n",
        "image = Image.open('/content/dataset/chapter1.jpg')\n",
        "pixels = image.load()\n",
        "\n",
        "#Modification of pixels values and sum red value using generated number\n",
        "red_sum = 0\n",
        "width, height = image.size\n",
        "\n",
        "for x in range(width):\n",
        "    for y in range(height):\n",
        "        r, g, b = pixels[x, y]\n",
        "        r_new = min(r + generated_number, 255)\n",
        "        g_new = min(g + generated_number, 255)\n",
        "        b_new = min(b + generated_number, 255)\n",
        "        # Updating the pixels in the image\n",
        "        pixels[x, y] = (r_new, g_new, b_new)\n",
        "        # Add to red pixels sum\n",
        "        red_sum += r_new\n",
        "\n",
        "# Saving the modified image into directory\n",
        "image.save('/content/drive/MyDrive/Assignment2/chapter1out.png')\n",
        "\n",
        "# Printing the sum of red values\n",
        "print(f\"Sum of Red Pixel Values: {red_sum}\")\n"
      ],
      "metadata": {
        "colab": {
          "base_uri": "https://localhost:8080/"
        },
        "id": "kf3D8w628_St",
        "outputId": "b129b45b-c5a2-4429-d5e5-beb52bc6ca50"
      },
      "execution_count": 37,
      "outputs": [
        {
          "output_type": "stream",
          "name": "stdout",
          "text": [
            "Sum of Red Pixel Values: 332311674\n"
          ]
        }
      ]
    },
    {
      "cell_type": "markdown",
      "source": [
        "## Chapter 2: The Chamber of Strings"
      ],
      "metadata": {
        "id": "5DtlJX739b5g"
      }
    },
    {
      "cell_type": "code",
      "source": [
        "def process_string(input_str):\n",
        "    number_str = \"\"\n",
        "    letter_str = \"\"\n",
        "    #Separate the numbers and the letters\n",
        "    for char in input_str:\n",
        "        if char.isdigit():\n",
        "            number_str += char\n",
        "        elif char.isalpha():\n",
        "            letter_str += char\n",
        "    print(f\"Number String: {number_str}\")\n",
        "    print(f\"Letter String: {letter_str}\")\n",
        "\n",
        "    #Convert the even numbers in the number string to ASCII code\n",
        "    even_ascii_codes = [ord(chr(int(num))) for num in number_str if int(num) % 2 == 0]\n",
        "    print(f\"Even Numbers to ASCII: {even_ascii_codes}\")\n",
        "    #Convert the uppercase letters to in the letter string to ASCII code\n",
        "    uppercase_ascii_codes = [ord(char) for char in letter_str if char.isupper()]\n",
        "    print(f\"Uppercase Letters to ASCII: {uppercase_ascii_codes}\")\n",
        "#input string\n",
        "input_str = \"5619835271047857310aAwWstfxAmnssfqq\"\n",
        "process_string(input_str)\n",
        "\n",
        "# Decryption code for Caesar cipher\n",
        "def decrypt_caesar_cipher(ciphertext, shift):\n",
        "    decrypted_text = \"\"\n",
        "    for char in ciphertext:\n",
        "        if char.isalpha():\n",
        "            shift_base = ord('A') if char.isupper() else ord('a')\n",
        "            decrypted_char = chr((ord(char) - shift_base - shift) % 26 + shift_base)\n",
        "            decrypted_text += decrypted_char\n",
        "        else:\n",
        "            decrypted_text += char\n",
        "    return decrypted_text\n",
        "#ciphertext = \"VZ FRYSVFZ UCZNCVRAG\"\n",
        "ciphertext = \"VZ FRYSVFUV YVZCVGNGRAG NAQ N YVGGR VAFFHRER V ZNXR ZVFGNGRF V NZ BHG BS PBAGEBY NAQING GUVRF UNEQ GB UNIRYN QRK VS LBH PNAG UNAQYR ZR NG ZL 3BEFG GURA LBH FRER NF URYYBAG QRFRER ZR NG ZL ORFG ZNEVYL ZBAGR\"\n",
        "shift_key = 13  #shift key for Caesar cipher\n",
        "decrypted_message = decrypt_caesar_cipher(ciphertext, shift_key)\n",
        "print(f\"Decrypted Message: {decrypted_message}\")\n"
      ],
      "metadata": {
        "colab": {
          "base_uri": "https://localhost:8080/"
        },
        "id": "7-vaK_Ld7TDU",
        "outputId": "7fb0d7cf-0e61-4603-913a-3c31a2ed51f4"
      },
      "execution_count": 29,
      "outputs": [
        {
          "output_type": "stream",
          "name": "stdout",
          "text": [
            "Number String: 5619835271047857310\n",
            "Letter String: aAwWstfxAmnssfqq\n",
            "Even Numbers to ASCII: [6, 8, 2, 0, 4, 8, 0]\n",
            "Uppercase Letters to ASCII: [65, 87, 65]\n",
            "Decrypted Message: IM SELFISHI LIMPITATENT AND A LITTE INSSUERE I MAKE MISTATES I AM OUT OF CONTROL ANDVAT THIES HARD TO HAVELA DEX IF YOU CANT HANDLE ME AT MY 3ORST THEN YOU SERE AS HELLONT DESERE ME AT MY BEST MARILY MONTE\n"
          ]
        }
      ]
    },
    {
      "cell_type": "markdown",
      "source": [
        "# Question 3 Fixing the error-prone codes."
      ],
      "metadata": {
        "id": "V3eCjQtHH5l-"
      }
    },
    {
      "cell_type": "markdown",
      "source": [
        "## encryption code"
      ],
      "metadata": {
        "id": "DwAKWnsO_kCC"
      }
    },
    {
      "cell_type": "code",
      "source": [
        "def encrypt(text, key):\n",
        "    encrypted_text = ''\n",
        "    for char in text:\n",
        "        if char.isalpha():\n",
        "            shifted = ord(char) + key\n",
        "            if char.islower():\n",
        "                if shifted > ord('z'):\n",
        "                    shifted -= 26\n",
        "                encrypted_text += chr(shifted)\n",
        "            elif char.isupper():\n",
        "                if shifted > ord('Z'):\n",
        "                    shifted -= 26\n",
        "                encrypted_text += chr(shifted)\n",
        "        else:\n",
        "            encrypted_text += char\n",
        "    return encrypted_text\n"
      ],
      "metadata": {
        "id": "aD4ORU6O_ZB-"
      },
      "execution_count": 14,
      "outputs": []
    },
    {
      "cell_type": "markdown",
      "source": [
        "## decryption code"
      ],
      "metadata": {
        "id": "kJte5ZyeLJGB"
      }
    },
    {
      "cell_type": "code",
      "source": [
        "def decrypt(text, key):\n",
        "    decrypted_text = ''\n",
        "    for char in text:\n",
        "        if char.isalpha():\n",
        "            shifted = ord(char) - key\n",
        "            if char.islower():\n",
        "                if shifted < ord('a'):\n",
        "                    shifted += 26\n",
        "                decrypted_text += chr(shifted)\n",
        "            elif char.isupper():\n",
        "                if shifted < ord('A'):\n",
        "                    shifted += 26\n",
        "                decrypted_text += chr(shifted)\n",
        "        else:\n",
        "            decrypted_text += char\n",
        "    return decrypted_text\n"
      ],
      "metadata": {
        "id": "td_n4_cg9m9K"
      },
      "execution_count": 15,
      "outputs": []
    },
    {
      "cell_type": "markdown",
      "source": [
        "## decrypt the code provided in question using decryption function"
      ],
      "metadata": {
        "id": "oIhERN8yLM9t"
      }
    },
    {
      "cell_type": "code",
      "source": [
        "encrypted_code = \"\"\"\n",
        "tybony_inevnoyr = 100\n",
        "zl_qvpg = {'xrl1': 'inyhr1', 'xrl2': 'inyhr2', 'xrl3': 'inyhr3'}\n",
        "\n",
        "qrs cngpu_sbepr():\n",
        "    tybony_inevnoyr -= 5\n",
        "    ahzoref = [1, 2, 3, 4, 5]\n",
        "\n",
        "    juvyr tybony_inevnoyr > 0:\n",
        "        vs tybony_inevnoyr % 2 == 0:\n",
        "            abgr.erzbir(tybony_inevnoyr)\n",
        "        tybony_inevnoyr -= 1\n",
        "\n",
        "    erghea ahzoref\n",
        "\n",
        "zl_frg = [1, 2, 3, 4, 5, 5, 4, 3, 2, 1]\n",
        "erfhyg = cngpu_sbepr()[ahzoref[-1]]\n",
        "\n",
        "qrs zbsql_svpqb():\n",
        "    vs zl_qvpg['xrl4'] != 'inyhr4':\n",
        "        zl_qvpg['xrl4'] = 'inyhr_inevnoyr'\n",
        "\n",
        "zbsql_svpqb(5)\n",
        "\n",
        "sbe v va ahater(5):\n",
        "    cevag(v)\n",
        "    vs zl_frg[v] Abg Abar naq zl_qvpg['xrl4'] == 10:\n",
        "        cevag(\"Pbafvqre zrg\")\n",
        "\n",
        "vs 5 abg va zl_frg:\n",
        "    cevag(\"5 sbyq sha va gur qvgpubeanel!\")\n",
        "\n",
        "cevag(tybony_inevnoyr)\n",
        "cevag(zl_qvpg)\n",
        "cevag(zl_frg)\n",
        "\"\"\"\n",
        "\n",
        "decrypted_code = decrypt(encrypted_code, 13)  # Assuming key 13\n",
        "print(decrypted_code)\n"
      ],
      "metadata": {
        "colab": {
          "base_uri": "https://localhost:8080/"
        },
        "id": "UzhFNeV4BjJR",
        "outputId": "6618f1ed-49c1-418b-abfc-80dc9064a470"
      },
      "execution_count": 16,
      "outputs": [
        {
          "output_type": "stream",
          "name": "stdout",
          "text": [
            "\n",
            "global_variable = 100\n",
            "my_dict = {'key1': 'value1', 'key2': 'value2', 'key3': 'value3'}\n",
            "\n",
            "def patch_force():\n",
            "    global_variable -= 5\n",
            "    numbers = [1, 2, 3, 4, 5]\n",
            "\n",
            "    while global_variable > 0:\n",
            "        if global_variable % 2 == 0:\n",
            "            note.remove(global_variable)\n",
            "        global_variable -= 1\n",
            "\n",
            "    return numbers\n",
            "\n",
            "my_set = [1, 2, 3, 4, 5, 5, 4, 3, 2, 1]\n",
            "result = patch_force()[numbers[-1]]\n",
            "\n",
            "def mofdy_ficdo():\n",
            "    if my_dict['key4'] != 'value4':\n",
            "        my_dict['key4'] = 'value_variable'\n",
            "\n",
            "mofdy_ficdo(5)\n",
            "\n",
            "for i in nungre(5):\n",
            "    print(i)\n",
            "    if my_set[i] Not None and my_dict['key4'] == 10:\n",
            "        print(\"Consider met\")\n",
            "\n",
            "if 5 not in my_set:\n",
            "    print(\"5 fold fun in the ditchornary!\")\n",
            "\n",
            "print(global_variable)\n",
            "print(my_dict)\n",
            "print(my_set)\n",
            "\n"
          ]
        }
      ]
    },
    {
      "cell_type": "markdown",
      "source": [
        "## error highlited using comments afterr decrytion"
      ],
      "metadata": {
        "id": "pbCMl73wCix2"
      }
    },
    {
      "cell_type": "code",
      "source": [
        "global_variable = 100\n",
        "my_dict = {'key1': 'value1', 'key2': 'value2', 'key3': 'value3'}\n",
        "\n",
        "def patch_force():\n",
        "    global_variable -= 5  # Error: 'global_variable' should be declared as 'global' to modify it\n",
        "    numbers = [1, 2, 3, 4, 5]\n",
        "\n",
        "    while global_variable > 0:\n",
        "        if global_variable % 2 == 0:\n",
        "            note.remove(global_variable)  # Error: 'note' is not defined\n",
        "        global_variable -= 1\n",
        "\n",
        "    return numbers\n",
        "\n",
        "my_set = [1, 2, 3, 4, 5, 5, 4, 3, 2, 1]\n",
        "result = patch_force()[numbers[-1]]  # Error: 'numbers' is not defined in this scope\n",
        "\n",
        "def mofdy_ficdo():\n",
        "    if my_dict['key4'] != 'value4':  # Error: 'key4' is not in 'my_dict'\n",
        "        my_dict['key4'] = 'value_variable'\n",
        "\n",
        "mofdy_ficdo(5)  # Error: 'mofdy_ficdo' does not accept any arguments\n",
        "\n",
        "for i in nungre(5):  # Error: 'nungre' is not a defined function\n",
        "    print(i)\n",
        "    if my_set[i] Not None and my_dict['key4'] == 10:  # Error: 'Not None' should be 'is not None'; 'key4' is not defined\n",
        "        print(\"Consider met\")\n",
        "\n",
        "if 5 not in my_set:\n",
        "    print(\"5 fold fun in the ditchornary!\")\n",
        "\n",
        "print(global_variable)\n",
        "print(my_dict)\n",
        "print(my_set)\n"
      ],
      "metadata": {
        "colab": {
          "base_uri": "https://localhost:8080/",
          "height": 106
        },
        "id": "Hpwl7Bz4G0aJ",
        "outputId": "935812ad-95f0-44d3-b535-b56487bbfc0e"
      },
      "execution_count": 17,
      "outputs": [
        {
          "output_type": "error",
          "ename": "SyntaxError",
          "evalue": "invalid syntax (<ipython-input-17-c228b1c14934>, line 26)",
          "traceback": [
            "\u001b[0;36m  File \u001b[0;32m\"<ipython-input-17-c228b1c14934>\"\u001b[0;36m, line \u001b[0;32m26\u001b[0m\n\u001b[0;31m    if my_set[i] Not None and my_dict['key4'] == 10:  # Error: 'Not None' should be 'is not None'; 'key4' is not defined\u001b[0m\n\u001b[0m                 ^\u001b[0m\n\u001b[0;31mSyntaxError\u001b[0m\u001b[0;31m:\u001b[0m invalid syntax\n"
          ]
        }
      ]
    },
    {
      "cell_type": "markdown",
      "source": [
        "## Fixed errors corrected code"
      ],
      "metadata": {
        "id": "UKTbPBktCqlY"
      }
    },
    {
      "cell_type": "code",
      "source": [
        "global_variable = 100\n",
        "my_dict = {'key1': 'value1', 'key2': 'value2', 'key3': 'value3'}\n",
        "\n",
        "def patch_force():\n",
        "    global global_variable  # Declare 'global_variable' as 'global' to modify it\n",
        "    global_variable -= 5\n",
        "    numbers = [1, 2, 3, 4, 5]\n",
        "\n",
        "    while global_variable > 0:\n",
        "        if global_variable % 2 == 0:\n",
        "            # Ensure 'note' is defined before using it; for this example, assume 'note' is a list\n",
        "            if global_variable in note:\n",
        "                note.remove(global_variable)\n",
        "        global_variable -= 1\n",
        "\n",
        "    return numbers\n",
        "\n",
        "# Define 'note' as a list; this is necessary for the patch_force function to work\n",
        "note = [5, 4, 3, 2, 1]\n",
        "\n",
        "# Correct the extraction of the last element from the 'numbers' list returned by 'patch_force'\n",
        "result = patch_force()[-1]  # Extract the last element from the list\n",
        "\n",
        "def mofdy_ficdo():\n",
        "    # Ensure that 'key4' is present in 'my_dict' before checking its value\n",
        "    if 'key4' not in my_dict or my_dict['key4'] != 'value4':\n",
        "        my_dict['key4'] = 'value_variable'\n",
        "\n",
        "mofdy_ficdo()  # Call the function without arguments\n",
        "\n",
        "# Define 'my_set' before using it\n",
        "my_set = [1, 2, 3, 4, 5, 5, 4, 3, 2, 1]\n",
        "\n",
        "# Use 'range' instead of 'nungre'\n",
        "for i in range(5):  # Corrected 'nungre' to 'range'\n",
        "    print(i)\n",
        "    # Corrected syntax: 'my_set[i] is not None' and ensure 'key4' is a valid key\n",
        "    if i < len(my_set) and my_set[i] is not None and my_dict.get('key4') == 'value_variable':\n",
        "        print(\"Consider met\")\n",
        "\n",
        "# Check if '5' is not in 'my_set' and print a message\n",
        "if 5 not in my_set:\n",
        "    print(\"5 fold fun in the ditchornary!\")\n",
        "\n",
        "# Print the values of 'global_variable', 'my_dict', and 'my_set'\n",
        "print(global_variable)\n",
        "print(my_dict)\n",
        "print(my_set)\n"
      ],
      "metadata": {
        "colab": {
          "base_uri": "https://localhost:8080/"
        },
        "id": "ANWedjr-CtM9",
        "outputId": "7c12b43e-a280-40ac-fbe3-723fff52213e"
      },
      "execution_count": 19,
      "outputs": [
        {
          "output_type": "stream",
          "name": "stdout",
          "text": [
            "0\n",
            "Consider met\n",
            "1\n",
            "Consider met\n",
            "2\n",
            "Consider met\n",
            "3\n",
            "Consider met\n",
            "4\n",
            "Consider met\n",
            "0\n",
            "{'key1': 'value1', 'key2': 'value2', 'key3': 'value3', 'key4': 'value_variable'}\n",
            "[1, 2, 3, 4, 5, 5, 4, 3, 2, 1]\n"
          ]
        }
      ]
    }
  ]
}